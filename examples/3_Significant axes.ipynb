{
 "cells": [
  {
   "cell_type": "code",
   "execution_count": 1,
   "metadata": {},
   "outputs": [],
   "source": [
    "import pandas as pd\n",
    "import glob\n",
    "import logging\n",
    "import os\n",
    "import numpy as np"
   ]
  },
  {
   "cell_type": "code",
   "execution_count": 2,
   "metadata": {},
   "outputs": [],
   "source": [
    "logging.basicConfig(level=logging.DEBUG,\n",
    "                    format='%(asctime)s %(name)-12s %(levelname)-8s %(message)s',\n",
    "                    datefmt=\"%Y-%m-%d %H:%M:%S\")\n",
    "logger = logging.getLogger(__name__)"
   ]
  },
  {
   "cell_type": "code",
   "execution_count": 3,
   "metadata": {},
   "outputs": [],
   "source": [
    "def calc_significance(df, COLUMNS, mode):\n",
    "    BOOTSTRAP_TEMPLATE = \"{}/bootstrap_{}_{}.tsv\"\n",
    "    OUT_TEMPLATE = \"{}/significant_axes_{}_{}.tsv\"\n",
    "    OUT_TEMPLATE2 = \"{}/effect_size_significant_axes_{}_{}.tsv\"\n",
    "\n",
    "    for aspect in df['aspect'].unique():\n",
    "        for sentiment in ['positive', 'negative']:\n",
    "            results = []        \n",
    "\n",
    "            df_actual = df.query('aspect == @aspect and sentiment == @sentiment')\n",
    "            df_bootstrap = pd.read_csv(BOOTSTRAP_TEMPLATE.format(mode, aspect.replace(\"/\", \"-\"), sentiment), sep=\"\\t\").dropna()\n",
    "\n",
    "            for axis in COLUMNS:\n",
    "                actual = np.mean(df_actual[axis], axis=0)\n",
    "                \n",
    "                if actual >= 0:\n",
    "                    significance = sum(df_bootstrap[axis] > actual)/float(N)\n",
    "                else:\n",
    "                    significance = sum(df_bootstrap[axis] < actual)/float(N)\n",
    "#                 significance = sum(abs(df_bootstrap[axis]) > abs(actual))/float(N)\n",
    "                results.append([axis, actual-np.mean(df_bootstrap[axis], axis=0), significance])\n",
    "\n",
    "\n",
    "            pd.DataFrame(sorted(results, key=lambda x:x[2]), \n",
    "                         columns = [\"axis\", \"diff_a_b\", \"p\"]\n",
    "                        ).to_csv(OUT_TEMPLATE.format(mode, aspect.replace(\"/\", \"-\"), sentiment), sep=\"\\t\", index=False)\n",
    "\n",
    "            pd.DataFrame(sorted(results, key=lambda x:abs(x[1]), reverse=True), \n",
    "                 columns = [\"axis\", \"diff_a_b\", \"p\"]\n",
    "                ).query('p <= 0.05').to_csv(OUT_TEMPLATE2.format(mode, aspect.replace(\"/\", \"-\"), sentiment), sep=\"\\t\", index=False)"
   ]
  },
  {
   "cell_type": "code",
   "execution_count": 4,
   "metadata": {},
   "outputs": [
    {
     "data": {
      "text/plain": [
       "1621"
      ]
     },
     "execution_count": 4,
     "metadata": {},
     "output_type": "execute_result"
    }
   ],
   "source": [
    "mode = \"average\"\n",
    "N = 1000\n",
    "df = pd.read_csv(\"big_table_by_{}.tsv\".format(mode), sep=\"\\t\").dropna()\n",
    "COLUMNS = [c for c in df.columns if '(' in c]\n",
    "len(COLUMNS)"
   ]
  },
  {
   "cell_type": "code",
   "execution_count": 5,
   "metadata": {},
   "outputs": [
    {
     "name": "stderr",
     "output_type": "stream",
     "text": [
      "2021-11-23 21:29:10 numexpr.utils INFO     NumExpr defaulting to 4 threads.\n"
     ]
    }
   ],
   "source": [
    "calc_significance(df, COLUMNS, mode)"
   ]
  },
  {
   "cell_type": "code",
   "execution_count": 6,
   "metadata": {},
   "outputs": [
    {
     "data": {
      "text/plain": [
       "1621"
      ]
     },
     "execution_count": 6,
     "metadata": {},
     "output_type": "execute_result"
    }
   ],
   "source": [
    "mode = \"second_moment\"\n",
    "N = 1000\n",
    "df = pd.read_csv(\"big_table_by_{}_with_corpus_mean.tsv\".format(mode), sep=\"\\t\").dropna()\n",
    "COLUMNS = [c for c in df.columns if '(' in c]\n",
    "len(COLUMNS)"
   ]
  },
  {
   "cell_type": "code",
   "execution_count": 7,
   "metadata": {},
   "outputs": [],
   "source": [
    "calc_significance(df, COLUMNS, mode)"
   ]
  },
  {
   "cell_type": "code",
   "execution_count": null,
   "metadata": {},
   "outputs": [],
   "source": []
  }
 ],
 "metadata": {
  "kernelspec": {
   "display_name": "frameaxis-nVQu9Ozg-py3.8",
   "language": "python",
   "name": "python3"
  },
  "language_info": {
   "codemirror_mode": {
    "name": "ipython",
    "version": 3
   },
   "file_extension": ".py",
   "mimetype": "text/x-python",
   "name": "python",
   "nbconvert_exporter": "python",
   "pygments_lexer": "ipython3",
   "version": "3.8.0"
  }
 },
 "nbformat": 4,
 "nbformat_minor": 2
}
